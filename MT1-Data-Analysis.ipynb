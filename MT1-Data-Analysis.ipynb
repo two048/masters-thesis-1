{
 "cells": [
  {
   "cell_type": "markdown",
   "id": "5875fc27-f741-453e-ac90-5164d23497e6",
   "metadata": {},
   "source": [
    "# Data Analysis for Masters Thesis 1\n",
    "\n",
    "### Title: Stemming algorithms for English\n",
    "\n",
    "### Algorithms being studied\n",
    "\n",
    "- Porter\n",
    "- Lancaster\n",
    "- Snowball (Porter2)"
   ]
  },
  {
   "cell_type": "markdown",
   "id": "155dd856-5476-41d4-b395-162cd54ac05b",
   "metadata": {},
   "source": [
    "#### Importing Required Packages"
   ]
  },
  {
   "cell_type": "code",
   "execution_count": 1,
   "id": "7a67fe0f-384b-4a1b-93ba-1108ce97c910",
   "metadata": {},
   "outputs": [],
   "source": [
    "from nltk.stem import PorterStemmer, LancasterStemmer, snowball\n",
    "from nltk.corpus import brown\n",
    "import pandas as pd"
   ]
  },
  {
   "cell_type": "markdown",
   "id": "01cdd0a2-249b-400c-bd4e-633ba290fdca",
   "metadata": {},
   "source": [
    "#### Extracting words from the corpora and preparing them for further processing"
   ]
  },
  {
   "cell_type": "code",
   "execution_count": 2,
   "id": "adf3517d-7506-4c8d-baba-e6756493c57b",
   "metadata": {},
   "outputs": [],
   "source": [
    "words = brown.words()\n",
    "corpus = ' '.join(words)"
   ]
  },
  {
   "cell_type": "markdown",
   "id": "087ae326-69ab-4dca-99d3-bfcc8737df2f",
   "metadata": {},
   "source": [
    "Total number of unique tokens:"
   ]
  },
  {
   "cell_type": "code",
   "execution_count": 3,
   "id": "0c7475f0-915a-45ef-b3bb-5e32c4ee0868",
   "metadata": {},
   "outputs": [
    {
     "name": "stdout",
     "output_type": "stream",
     "text": [
      "56057\n"
     ]
    }
   ],
   "source": [
    "print(len(set(words)))"
   ]
  },
  {
   "cell_type": "code",
   "execution_count": 4,
   "id": "12e973f2-04e9-4b4d-9de6-5f1ee570f33f",
   "metadata": {},
   "outputs": [],
   "source": [
    "corpus = corpus.lower()\n",
    "corpus = corpus.replace(\"\\n\",\" \")\n",
    "corpus = corpus.replace(\"-\", \" \")\n",
    "cleaned_corpus = [i for i in corpus if i.isalpha() or i==' ']\n",
    "cleaned_corpus = ''.join(cleaned_corpus)\n",
    "rev_corpus = [i[::-1] for i in cleaned_corpus]"
   ]
  },
  {
   "cell_type": "markdown",
   "id": "df455c4d-ce29-47ad-a196-8a72b91eba8d",
   "metadata": {},
   "source": [
    "**Removing functional words and sorting according to the reverse of the spelling so as it order it according to the word endings.**"
   ]
  },
  {
   "cell_type": "code",
   "execution_count": 5,
   "id": "a9141d18-585a-4ca3-973d-d43759eb99cc",
   "metadata": {},
   "outputs": [],
   "source": [
    "functional_words = [\n",
    "    \"the\", \"a\", \"an\",\n",
    "    \"in\", \"on\", \"at\", \"by\", \"for\", \"with\", \"to\", \"from\", \"of\", \"about\", \"through\", \"between\", \"among\", \"under\", \"over\",\n",
    "    \"and\", \"but\", \"or\", \"nor\", \"for\", \"so\", \"yet\",\n",
    "    \"although\", \"because\", \"if\", \"unless\", \"since\", \"while\", \"when\", \"after\", \"before\", \"as\", \"though\",\n",
    "    \"I\", \"you\", \"he\", \"she\", \"it\", \"we\", \"they\", \"me\", \"you\", \"him\", \"her\", \"us\", \"them\",\n",
    "    \"my\", \"your\", \"his\", \"her\", \"its\", \"our\", \"their\", \"mine\", \"yours\", \"hers\", \"ours\", \"theirs\",\n",
    "    \"myself\", \"yourself\", \"himself\", \"herself\", \"itself\", \"ourselves\", \"yourselves\", \"themselves\",\n",
    "    \"who\", \"whom\", \"whose\", \"which\", \"that\",\n",
    "    \"this\", \"that\", \"these\", \"those\",\n",
    "    \"who\", \"whom\", \"whose\", \"which\", \"what\",\n",
    "    \"all\", \"another\", \"any\", \"anybody\", \"anyone\", \"anything\", \"both\", \"each\", \"either\", \"everybody\", \"everyone\", \"everything\", \"neither\", \"nobody\", \"no one\", \"nothing\", \"several\", \"some\", \"somebody\", \"someone\", \"something\",\n",
    "    \"can\", \"could\", \"may\", \"might\", \"must\", \"shall\", \"should\", \"will\", \"would\",\n",
    "    \"am\", \"is\", \"are\", \"was\", \"were\", \"be\", \"being\", \"been\", \"have\", \"has\", \"had\", \"do\", \"does\", \"did\",\n",
    "    \"also\", \"not\", \"never\", \"always\", \"very\", \"too\", \"so\", \"such\", \"here\", \"there\", \"now\", \"then\", \"when\", \"where\",\n",
    "    \"today\", \"yesterday\", \"tomorrow\", \"soon\", \"now\", \"then\", \"already\", \"lately\",\n",
    "    \"always\", \"usually\", \"often\", \"sometimes\", \"seldom\", \"never\"\n",
    "]\n",
    "\n",
    "words = cleaned_corpus.split()\n",
    "\n",
    "primary_dataset = [i for i in words if not i in functional_words]\n",
    "primary_dataset = list(set(primary_dataset))\n",
    "primary_dataset = [i[::-1] for i in primary_dataset]\n",
    "primary_dataset.sort()\n",
    "primary_dataset = [i[::-1] for i in primary_dataset]"
   ]
  },
  {
   "cell_type": "markdown",
   "id": "100fa73b-169b-4f83-85fd-f27aeb8f18c9",
   "metadata": {},
   "source": [
    "**Number of words:**"
   ]
  },
  {
   "cell_type": "code",
   "execution_count": 6,
   "id": "2bed057f-23aa-4405-8599-ba9b468151cc",
   "metadata": {},
   "outputs": [
    {
     "data": {
      "text/plain": [
       "42551"
      ]
     },
     "execution_count": 6,
     "metadata": {},
     "output_type": "execute_result"
    }
   ],
   "source": [
    "len(primary_dataset)"
   ]
  },
  {
   "cell_type": "markdown",
   "id": "b7899889-b9b3-422b-89e2-a2bc840e8597",
   "metadata": {},
   "source": [
    "### Applying systematic sampling (selecting every 10th word) total of 10% of the dataset."
   ]
  },
  {
   "cell_type": "code",
   "execution_count": 7,
   "id": "f35456b9-54b3-4960-8141-a2285a4f4824",
   "metadata": {
    "scrolled": true
   },
   "outputs": [
    {
     "name": "stdout",
     "output_type": "stream",
     "text": [
      "Sample size:  4256\n",
      "Sample preview:  ['aa', 'elba', 'tuba', 'jamaica', 'veronica', 'atlantica', 'dellarca', 'ywca', 'hedda', 'salida', 'veranda', 'tenda', 'soda', 'medea', 'anthea', 'andrea', 'hoffa', 'bottega', 'ticonderoga', 'mischa', 'pasha', 'bertha', 'suburbia', 'acadia', 'pharmacopoeia', 'bahia', 'malia', 'anglia', 'julia', 'lumia']\n"
     ]
    }
   ],
   "source": [
    "sample_systematic = []\n",
    "\n",
    "for i in range(0, len(primary_dataset), 10):\n",
    "    sample_systematic.append(primary_dataset[i])\n",
    "\n",
    "print(\"Sample size: \", len(sample_systematic))\n",
    "print(\"Sample preview: \", sample_systematic[0:30])"
   ]
  },
  {
   "cell_type": "markdown",
   "id": "f06df0e7-2e63-4f8e-973d-b2944d1fdae2",
   "metadata": {},
   "source": [
    "### Creating objects for each algorithm"
   ]
  },
  {
   "cell_type": "code",
   "execution_count": 8,
   "id": "0d74024c-5811-427d-b75d-dc590e47d7e8",
   "metadata": {},
   "outputs": [],
   "source": [
    "stemmer_porter = PorterStemmer()\n",
    "stemmer_lancaster = LancasterStemmer()\n",
    "stemmer_snowball = snowball.EnglishStemmer()"
   ]
  },
  {
   "cell_type": "markdown",
   "id": "b0d9ca51-191f-4d51-a2cc-539f9a3d1cb6",
   "metadata": {},
   "source": [
    "### Applying stemming over the primary dataset and the sample dataset"
   ]
  },
  {
   "cell_type": "code",
   "execution_count": 9,
   "id": "6eee1bc4-6d47-44db-a539-88cdc9194ba9",
   "metadata": {},
   "outputs": [],
   "source": [
    "def stem_all(dataset):\n",
    "    stemmed_lancaster = [stemmer_lancaster.stem(i) for i in dataset]\n",
    "    stemmed_porter = [stemmer_porter.stem(i) for i in dataset]\n",
    "    stemmed_snowball = [stemmer_snowball.stem(i) for i in dataset]\n",
    "\n",
    "    df_processed = pd.DataFrame({\n",
    "    \"Original\" : dataset,\n",
    "    \"Porter\" : stemmed_porter,\n",
    "    \"Lancaster\" : stemmed_lancaster,\n",
    "    \"Snowball\" : stemmed_snowball,\n",
    "    }, index=range(1,len(dataset)+1))\n",
    "\n",
    "    return df_processed"
   ]
  },
  {
   "cell_type": "code",
   "execution_count": 10,
   "id": "dd71489a-1f0b-4ca0-be1e-52d0e172fe84",
   "metadata": {},
   "outputs": [],
   "source": [
    "df_primary = stem_all(primary_dataset)\n",
    "df_sample_systematic = stem_all(sample_systematic)"
   ]
  },
  {
   "cell_type": "code",
   "execution_count": null,
   "id": "1a61917a-42ca-47fa-9127-650def7ae30f",
   "metadata": {},
   "outputs": [],
   "source": []
  }
 ],
 "metadata": {
  "kernelspec": {
   "display_name": "Python 3 (ipykernel)",
   "language": "python",
   "name": "python3"
  },
  "language_info": {
   "codemirror_mode": {
    "name": "ipython",
    "version": 3
   },
   "file_extension": ".py",
   "mimetype": "text/x-python",
   "name": "python",
   "nbconvert_exporter": "python",
   "pygments_lexer": "ipython3",
   "version": "3.11.6"
  }
 },
 "nbformat": 4,
 "nbformat_minor": 5
}
